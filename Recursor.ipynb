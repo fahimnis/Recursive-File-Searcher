{
 "cells": [
  {
   "cell_type": "code",
   "execution_count": 9,
   "metadata": {},
   "outputs": [],
   "source": [
    "#Recursive File Searcher\n",
    "\n",
    "import os, glob # the libraries that will help us to search through files\n",
    "\n",
    "class Recursor():\n",
    "    \n",
    "    def __init__(self):\n",
    "        \n",
    "        self.counter = 0\n",
    "        \n",
    "#         self.indent = ''\n",
    "        \n",
    "        return\n",
    "    \n",
    "    def fileSearch(self,name,loc,indent):\n",
    "\n",
    "        os.chdir(loc)\n",
    "        \n",
    "        indent += '  '\n",
    "        \n",
    "        self.counter += 1\n",
    "\n",
    "        for file in glob.glob(\"*.txt\"):\n",
    "            \n",
    "            print('-'*60)\n",
    "            \n",
    "            if file == name:\n",
    "                \n",
    "\n",
    "                print(indent,self.counter,file,'file found in', loc)\n",
    "                \n",
    "                return\n",
    "\n",
    "            else:\n",
    "                print(indent,self.counter,\"| Searching...\",loc)\n",
    "\n",
    "        Subs = [f.path for f in os.scandir(loc) if f.is_dir()] #use f.name to get name instead of path\n",
    "        \n",
    "        for items in Subs:\n",
    "\n",
    "            self.fileSearch(name,items,indent)\n",
    "        \n",
    "        "
   ]
  },
  {
   "cell_type": "code",
   "execution_count": 10,
   "metadata": {},
   "outputs": [],
   "source": [
    "path = 'C:/Users/Fahim/Desktop/Test'"
   ]
  },
  {
   "cell_type": "code",
   "execution_count": 11,
   "metadata": {},
   "outputs": [],
   "source": [
    "S = Recursor()"
   ]
  },
  {
   "cell_type": "code",
   "execution_count": 12,
   "metadata": {},
   "outputs": [
    {
     "name": "stdout",
     "output_type": "stream",
     "text": [
      "------------------------------------------------------------\n",
      "   1 | Searching... C:/Users/Fahim/Desktop/Test\n",
      "------------------------------------------------------------\n",
      "   1 | Searching... C:/Users/Fahim/Desktop/Test\n",
      "------------------------------------------------------------\n",
      "     2 | Searching... C:/Users/Fahim/Desktop/Test\\Sub1\n",
      "------------------------------------------------------------\n",
      "     2 | Searching... C:/Users/Fahim/Desktop/Test\\Sub1\n",
      "------------------------------------------------------------\n",
      "     2 | Searching... C:/Users/Fahim/Desktop/Test\\Sub1\n",
      "------------------------------------------------------------\n",
      "       3 | Searching... C:/Users/Fahim/Desktop/Test\\Sub1\\Sub2\n",
      "------------------------------------------------------------\n",
      "         4 bug.txt file found in C:/Users/Fahim/Desktop/Test\\Sub1\\Sub2\\Sub3\n",
      "------------------------------------------------------------\n",
      "     5 | Searching... C:/Users/Fahim/Desktop/Test\\Subnew\n",
      "------------------------------------------------------------\n",
      "     5 | Searching... C:/Users/Fahim/Desktop/Test\\Subnew\n"
     ]
    }
   ],
   "source": [
    "S.fileSearch('bug.txt',path,'')"
   ]
  },
  {
   "cell_type": "code",
   "execution_count": 35,
   "metadata": {},
   "outputs": [],
   "source": [
    "# for root, dirs, files in os.walk(path):\n",
    "#     for file in files:\n",
    "#         if file.endswith(\".txt\"):\n",
    "#              print(os.path.join(root, file))"
   ]
  },
  {
   "cell_type": "code",
   "execution_count": null,
   "metadata": {},
   "outputs": [],
   "source": []
  }
 ],
 "metadata": {
  "kernelspec": {
   "display_name": "Python 3",
   "language": "python",
   "name": "python3"
  },
  "language_info": {
   "codemirror_mode": {
    "name": "ipython",
    "version": 3
   },
   "file_extension": ".py",
   "mimetype": "text/x-python",
   "name": "python",
   "nbconvert_exporter": "python",
   "pygments_lexer": "ipython3",
   "version": "3.7.3"
  }
 },
 "nbformat": 4,
 "nbformat_minor": 2
}
